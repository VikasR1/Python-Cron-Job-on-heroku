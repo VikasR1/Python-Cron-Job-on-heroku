{
 "cells": [
  {
   "cell_type": "markdown",
   "id": "5ca2a9dc",
   "metadata": {},
   "source": [
    "# About the project\n",
    "\n",
    "This is a basic project to set up the cronjob in your script. The CronJobs will automatically trigger at a certain time on daily basis to perform their Task.\n",
    "\n",
    "- In our case our cron will start daily at 5:55 am `utc` time.\n",
    "- and insert a row into the `demofile.txt`.\n",
    "\n",
    "##### cron job documentation:\n",
    "\n",
    "- https://apscheduler.readthedocs.io/en/3.x/userguide.html\n"
   ]
  },
  {
   "cell_type": "code",
   "execution_count": null,
   "id": "81e371bf",
   "metadata": {},
   "outputs": [],
   "source": [
    "pip install APScheduler --upgrade --quiet"
   ]
  },
  {
   "cell_type": "code",
   "execution_count": null,
   "id": "ec537f04",
   "metadata": {},
   "outputs": [],
   "source": [
    "pip install pipenv --upgrade --quiet"
   ]
  },
  {
   "cell_type": "code",
   "execution_count": null,
   "id": "58b1370a",
   "metadata": {},
   "outputs": [],
   "source": [
    "from datetime import datetime\n",
    "# Package Scheduler.\n",
    "from apscheduler.schedulers.blocking import BlockingScheduler\n",
    "# from apscheduler.triggers.cron import CronTrigger\n",
    "\n",
    "def cronjob():\n",
    "    print(\"Cron job is running\")\n",
    "    print(\"Tick! The time is: %s\" % datetime.now())\n",
    "    f = open(\"demofile.txt\", \"a\")\n",
    "    f.write(\"Inserted a new line and the time is: %s\" % datetime.now() +'\\n')\n",
    "    f.close()\n",
    "\n",
    "sched = BlockingScheduler()\n",
    "\n",
    "# sched.add_job(cronjob, \"interval\", seconds=5 )\n",
    "# Runs from Monday to Friday at 5:41 (am) until 2022-12-30 00:00:00\n",
    "sched.add_job(cronjob, 'cron', day_of_week='mon-fri', hour=5, minute=55, end_date='2022-12-30')\n",
    "\n",
    "sched.start()"
   ]
  },
  {
   "cell_type": "code",
   "execution_count": null,
   "id": "45df6947",
   "metadata": {},
   "outputs": [],
   "source": []
  },
  {
   "cell_type": "code",
   "execution_count": null,
   "id": "df02ef91",
   "metadata": {},
   "outputs": [
    {
     "data": {
      "application/javascript": [
       "window.require && require([\"base/js/namespace\"],function(Jupyter){Jupyter.notebook.save_checkpoint()})"
      ],
      "text/plain": [
       "<IPython.core.display.Javascript object>"
      ]
     },
     "metadata": {},
     "output_type": "display_data"
    }
   ],
   "source": [
    "# Execute this to save new versions of the notebook\n",
    "jovian.commit(project=\"scheduling-execution-of-python-scripts-using-cron\")"
   ]
  },
  {
   "cell_type": "code",
   "execution_count": null,
   "id": "220fd1dd",
   "metadata": {},
   "outputs": [],
   "source": []
  }
 ],
 "metadata": {
  "language_info": {
   "codemirror_mode": {
    "name": "ipython",
    "version": 3
   },
   "file_extension": ".py",
   "mimetype": "text/x-python",
   "name": "python",
   "nbconvert_exporter": "python",
   "pygments_lexer": "ipython3",
   "version": "3.9.6"
  }
 },
 "nbformat": 4,
 "nbformat_minor": 5
}