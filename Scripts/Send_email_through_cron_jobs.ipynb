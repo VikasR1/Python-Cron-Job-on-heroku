{
 "cells": [
  {
   "cell_type": "markdown",
   "id": "2d5b2d5a",
   "metadata": {},
   "source": [
    "# Send email through cron jobs\n",
    "\n",
    "In continuation of `cron` job learning. Today we will send email automatically at predefined time with the help of `cron` jobs.\n",
    "\n",
    "**Note** :- cron jobs will run as per UTC time."
   ]
  },
  {
   "cell_type": "code",
   "execution_count": null,
   "id": "905a072d",
   "metadata": {},
   "outputs": [],
   "source": [
    "pip install APScheduler --upgrade --quiet\n",
    "pip install pipenv --upgrade --quiet\n",
    "pip install schedule --upgrade --quiet"
   ]
  },
  {
   "cell_type": "code",
   "execution_count": null,
   "id": "83d1c979",
   "metadata": {},
   "outputs": [],
   "source": [
    "import pandas as pd\n",
    "\n",
    "#modules related to mail setup\n",
    "import smtplib\n",
    "from email.message import EmailMessage\n",
    "import time\n",
    "import schedule        # pip install schedule\n",
    "\n",
    "# modules related to cron\n",
    "from datetime import datetime\n",
    "# Package Scheduler.\n",
    "from apscheduler.schedulers.blocking import BlockingScheduler\n",
    "# from apscheduler.triggers.cron import CronTrigger"
   ]
  },
  {
   "cell_type": "code",
   "execution_count": null,
   "id": "6a4c72c1",
   "metadata": {},
   "outputs": [],
   "source": [
    "def mai_send():\n",
    "    # email script starts\n",
    "    email_sender = 'mail id of sender'\n",
    "    email_password ='passwords'\n",
    "    email_receiver = 'maild id of receiver'\n",
    "\n",
    "    # Generate today's date to be included in the email Subject\n",
    "    date_str = pd.Timestamp.today().strftime('%Y-%m-%d')\n",
    "    subject = f'Automated email updates Dated -{date_str}'\n",
    "    body = \"\"\"  Hi this is email is scheduled through cron jobs.\n",
    "    \"\"\"\n",
    "\n",
    "    # creating an object to write an email \n",
    "    em = EmailMessage()\n",
    "    em['From'] = 'Daily product update'\n",
    "    em['To'] = email_receiver\n",
    "    em['Subject'] = subject\n",
    "    em.set_content(body) \n",
    "    # em.add_alternative(body, subtype = \"html\")\n",
    "\n",
    "    server = smtplib.SMTP('smtp.gmail.com', 587)\n",
    "    server.starttls()\n",
    "    server.login(email_sender, email_password)\n",
    "    server.sendmail(email_sender, email_receiver, em.as_string())\n",
    "\n",
    "    print('Mail has been sent for',date_str)\n",
    "    return\n",
    "    "
   ]
  },
  {
   "cell_type": "code",
   "execution_count": null,
   "id": "affc809b",
   "metadata": {},
   "outputs": [],
   "source": [
    "sched = BlockingScheduler()\n",
    "\n",
    "# sched.add_job(cronjob, \"interval\", seconds=5 )\n",
    "# Runs from Monday to Friday at 6:39 (am) until 2022-12-30 00:00:00 (UTC time)\n",
    "sched.add_job(mai_send, 'cron', day_of_week='mon-fri', hour=6, minute=39, end_date='2022-12-30')\n",
    "\n",
    "sched.start()"
   ]
  },
  {
   "cell_type": "code",
   "execution_count": null,
   "id": "6d914182",
   "metadata": {},
   "outputs": [],
   "source": []
  },
  {
   "cell_type": "code",
   "execution_count": null,
   "id": "37fdaa41",
   "metadata": {},
   "outputs": [
    {
     "data": {
      "application/javascript": [
       "window.require && require([\"base/js/namespace\"],function(Jupyter){Jupyter.notebook.save_checkpoint()})"
      ],
      "text/plain": [
       "<IPython.core.display.Javascript object>"
      ]
     },
     "metadata": {},
     "output_type": "display_data"
    }
   ],
   "source": [
    "# Execute this to save new versions of the notebook\n",
    "jovian.commit(project=\"send-email-through-cron-jobs\")"
   ]
  },
  {
   "cell_type": "code",
   "execution_count": null,
   "id": "c08fd18f",
   "metadata": {},
   "outputs": [],
   "source": []
  }
 ],
 "metadata": {
  "language_info": {
   "codemirror_mode": {
    "name": "ipython",
    "version": 3
   },
   "file_extension": ".py",
   "mimetype": "text/x-python",
   "name": "python",
   "nbconvert_exporter": "python",
   "pygments_lexer": "ipython3",
   "version": "3.9.6"
  }
 },
 "nbformat": 4,
 "nbformat_minor": 5
}
